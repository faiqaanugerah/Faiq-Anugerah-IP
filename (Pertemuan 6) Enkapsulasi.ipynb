{
 "cells": [
  {
   "cell_type": "markdown",
   "metadata": {},
   "source": [
    "# Encapsulation"
   ]
  },
  {
   "cell_type": "markdown",
   "metadata": {},
   "source": [
    "Encapsulation adalah mekanisme untuk menyembunyikan / Memproteksi suatu proses agar tidak Terjadi penyalahgunaan Di luar sistemnya."
   ]
  },
  {
   "cell_type": "code",
   "execution_count": 6,
   "metadata": {},
   "outputs": [
    {
     "name": "stdout",
     "output_type": "stream",
     "text": [
      "4\n",
      "5\n"
     ]
    },
    {
     "ename": "AttributeError",
     "evalue": "robot instance has no attribute '__z'",
     "output_type": "error",
     "traceback": [
      "\u001b[1;31m\u001b[0m",
      "\u001b[1;31mAttributeError\u001b[0mTraceback (most recent call last)",
      "\u001b[1;32m<ipython-input-6-7e5aa1277822>\u001b[0m in \u001b[0;36m<module>\u001b[1;34m()\u001b[0m\n\u001b[0;32m      7\u001b[0m \u001b[1;32mprint\u001b[0m\u001b[1;33m(\u001b[0m\u001b[0mobj\u001b[0m\u001b[1;33m.\u001b[0m\u001b[0mx\u001b[0m\u001b[1;33m)\u001b[0m\u001b[1;33m\u001b[0m\u001b[0m\n\u001b[0;32m      8\u001b[0m \u001b[1;32mprint\u001b[0m\u001b[1;33m(\u001b[0m\u001b[0mobj\u001b[0m\u001b[1;33m.\u001b[0m\u001b[0m_y\u001b[0m\u001b[1;33m)\u001b[0m\u001b[1;33m\u001b[0m\u001b[0m\n\u001b[1;32m----> 9\u001b[1;33m \u001b[1;32mprint\u001b[0m\u001b[1;33m(\u001b[0m\u001b[0mobj\u001b[0m\u001b[1;33m.\u001b[0m\u001b[0m__z\u001b[0m\u001b[1;33m)\u001b[0m\u001b[1;33m\u001b[0m\u001b[0m\n\u001b[0m",
      "\u001b[1;31mAttributeError\u001b[0m: robot instance has no attribute '__z'"
     ]
    }
   ],
   "source": [
    "class robot:\n",
    "    def __init__(self):\n",
    "        self.x=4\n",
    "        self._y=5\n",
    "        self.__z=6\n",
    "obj=robot()\n",
    "print(obj.x)\n",
    "print(obj._y)\n",
    "print(obj.__z)"
   ]
  },
  {
   "cell_type": "markdown",
   "metadata": {},
   "source": [
    "Jadi Mengapa pemanggialan Variabel z Error?"
   ]
  },
  {
   "cell_type": "markdown",
   "metadata": {},
   "source": [
    "a. Karena Kalau Dua underscore sebelum variable, menandakan sebuah variabel privat, Pengaksesanya susah dan membutuhkan Method khusus untuk mengelolanya.\n",
    "b. Jika satu Underscore sebelum variabelnya, menandakan Sebuad variabel Privat seharusnya tidak diakses secara langsung."
   ]
  },
  {
   "cell_type": "markdown",
   "metadata": {},
   "source": [
    "#  Metode Getter dan Setter"
   ]
  },
  {
   "cell_type": "markdown",
   "metadata": {},
   "source": [
    "    Dengan Metode Ini, variable privat bisa diakses dengan menggunakan akses secara tidak langsung kepada variable privat. \n",
    "\n",
    "    Getter Ialah Metode yang digunakan untuk menampilkan Variabel yang Terproteksi dua Underscore didepannya\n",
    "    Sedangkan Setter adalah Metode yang berguna untuk mengubah isi dari variabelnya."
   ]
  },
  {
   "cell_type": "code",
   "execution_count": 5,
   "metadata": {},
   "outputs": [
    {
     "name": "stdout",
     "output_type": "stream",
     "text": [
      "3\n",
      "Variabel z  Sudah di Rubah gaes\n"
     ]
    }
   ],
   "source": [
    "class robot:\n",
    "    def __init__(self):\n",
    "        self.x=4\n",
    "        self._y=5\n",
    "        self.__z=6\n",
    "    def getter(self):\n",
    "        print(self.__z)\n",
    "    def setter(self,arg):\n",
    "        self.__z=arg\n",
    "obj=robot()\n",
    "obj.getter()\n",
    "obj.setter(\"Variabel z  Sudah di Rubah gaes\")\n",
    "obj.getter()"
   ]
  },
  {
   "cell_type": "code",
   "execution_count": null,
   "metadata": {},
   "outputs": [],
   "source": []
  }
 ],
 "metadata": {
  "kernelspec": {
   "display_name": "Python 2",
   "language": "python",
   "name": "python2"
  },
  "language_info": {
   "codemirror_mode": {
    "name": "ipython",
    "version": 2
   },
   "file_extension": ".py",
   "mimetype": "text/x-python",
   "name": "python",
   "nbconvert_exporter": "python",
   "pygments_lexer": "ipython2",
   "version": "2.7.15"
  }
 },
 "nbformat": 4,
 "nbformat_minor": 2
}
