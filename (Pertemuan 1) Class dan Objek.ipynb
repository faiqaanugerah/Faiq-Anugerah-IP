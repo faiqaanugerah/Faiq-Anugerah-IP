{
 "cells": [
  {
   "cell_type": "markdown",
   "metadata": {},
   "source": [
    "# Class & Object"
   ]
  },
  {
   "cell_type": "markdown",
   "metadata": {},
   "source": [
    "## Objek"
   ]
  },
  {
   "cell_type": "markdown",
   "metadata": {},
   "source": [
    "Objek adalah sesuatu yang diciptakan dari class, ia memiliki atribut(apa yang dipunya objek ini) dan method(apa yang bisa ia lakukan).\n",
    "setiap Objek memiliki atribut sebagai status, setiap objek memiliki tingkah laku (behavior)."
   ]
  },
  {
   "cell_type": "markdown",
   "metadata": {},
   "source": [
    "## Class "
   ]
  },
  {
   "cell_type": "markdown",
   "metadata": {},
   "source": [
    "Sedangan class adalah hanyalah sebagai Wadah Untuk menaruh Objek."
   ]
  },
  {
   "cell_type": "markdown",
   "metadata": {},
   "source": [
    "### Perbedaan Class dan Objek"
   ]
  },
  {
   "cell_type": "markdown",
   "metadata": {},
   "source": [
    "Class Tidak bisa beroperasi tanpa adanya objek, dan objek merupakan intasnsi class pada method-method tertentu. Jadi pada setiap class diharuskan ada Sebuah Objek."
   ]
  },
  {
   "cell_type": "markdown",
   "metadata": {},
   "source": [
    "Contoh Class :"
   ]
  },
  {
   "cell_type": "code",
   "execution_count": 1,
   "metadata": {},
   "outputs": [
    {
     "name": "stdout",
     "output_type": "stream",
     "text": [
      "('sisinya = ', 2)\n",
      "('keliling =', 4)\n",
      "('Luas Permukaan =', 24)\n",
      "('Volumenya =', 8)\n"
     ]
    }
   ],
   "source": [
    "class Kubus:               \n",
    "    def __init__(self,s):\n",
    "        self.sisi=s\n",
    "    def tampilkan(self):\n",
    "        print(\"sisinya = \",self.sisi)\n",
    "    def Luas(self):\n",
    "        print(\"keliling =\",self.sisi**2)\n",
    "    def LuasP(self):\n",
    "        print(\"Luas Permukaan =\",6*self.sisi**2)\n",
    "    def Volume(self):\n",
    "        print(\"Volumenya =\", self.sisi**3)\n",
    "k2=Kubus(2)\n",
    "k2.tampilkan()\n",
    "k2.Luas()\n",
    "k2.LuasP()\n",
    "k2.Volume()"
   ]
  },
  {
   "cell_type": "markdown",
   "metadata": {},
   "source": [
    "Contoh Class Pada Mahasiswa :"
   ]
  },
  {
   "cell_type": "code",
   "execution_count": 2,
   "metadata": {},
   "outputs": [
    {
     "name": "stdout",
     "output_type": "stream",
     "text": [
      "('Selamat,', 'Faiq Anugerah IP', 'Anda layak mendapatkan BidikMisi, Ipk Anda =', 3.78)\n"
     ]
    }
   ],
   "source": [
    "class Mahasiswa:\n",
    "    def __init__(self,a,b,c):\n",
    "        self.nim=a\n",
    "        self.nama=b\n",
    "        self.ipk=c\n",
    "    def Ipk(self):\n",
    "        if self.ipk >= 3:\n",
    "            print(\"Selamat,\",self.nama,\"Anda layak mendapatkan BidikMisi, Ipk Anda =\",self.ipk)\n",
    "        else:\n",
    "            print(\"Maaf, {} Anda Tidak layak mendapatkan BidikMisi. Dikarenakan Ipk anda {}\")\n",
    "m1=Mahasiswa(170411100007,\"Faiq Anugerah IP\",3.78)\n",
    "m1.Ipk()"
   ]
  },
  {
   "cell_type": "markdown",
   "metadata": {},
   "source": [
    "### Tugas1"
   ]
  },
  {
   "cell_type": "markdown",
   "metadata": {},
   "source": [
    "2 class saling berhubungan\n",
    "\n",
    "nasabah:\n",
    "Properti = Nama, Alamat, dan nomer rekening\n",
    "Rekening:\n",
    "Properti = no rekening, saldo\n",
    "\n",
    "Method: Tambah rekening, Ambil Rekening\n",
    "\n",
    "Tugas class:\n",
    "simulasikan dia melakukan transaksi cetak rekening Mengambil, Menabung, Cetak Rekening saldonya\n",
    "yg ditampilkan Properti + Saldo"
   ]
  }
 ],
 "metadata": {
  "kernelspec": {
   "display_name": "Python 2",
   "language": "python",
   "name": "python2"
  },
  "language_info": {
   "codemirror_mode": {
    "name": "ipython",
    "version": 2
   },
   "file_extension": ".py",
   "mimetype": "text/x-python",
   "name": "python",
   "nbconvert_exporter": "python",
   "pygments_lexer": "ipython2",
   "version": "2.7.15"
  }
 },
 "nbformat": 4,
 "nbformat_minor": 2
}
