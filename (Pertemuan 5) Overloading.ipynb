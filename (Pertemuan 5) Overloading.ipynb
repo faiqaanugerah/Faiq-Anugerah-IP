{
 "cells": [
  {
   "cell_type": "markdown",
   "metadata": {},
   "source": [
    "# Overloading Method & Operator Overloading"
   ]
  },
  {
   "cell_type": "markdown",
   "metadata": {},
   "source": [
    "# 1.Overloading Method"
   ]
  },
  {
   "cell_type": "markdown",
   "metadata": {},
   "source": [
    "Overloading method ialah method yangmengeksekusi berdasarkan jumlah parameter yang diinputkan, Beda jumlah parameter maka berbeda pula method yg ditampilkan"
   ]
  },
  {
   "cell_type": "code",
   "execution_count": 5,
   "metadata": {},
   "outputs": [
    {
     "name": "stdout",
     "output_type": "stream",
     "text": [
      "6/8\n"
     ]
    }
   ],
   "source": [
    "class Fraction:\n",
    "    def __init__(self,top,bottom):\n",
    "        self.num=top\n",
    "        self.den=bottom\n",
    "    #def Show(self):\n",
    "        #print(self.num,\"/\",self.den)\n",
    "    def __str__(self):\n",
    "        return str(self.num)+\"/\"+str(self.den)\n",
    "    def __add__(self,otherfraction):\n",
    "        newnum=self.num*otherfraction.den+self.den*otherfraction.num\n",
    "        newden=self.den*otherfraction.den\n",
    "        return Fraction(newnum,newden)\n",
    "f1=Fraction(1,4)\n",
    "f2=Fraction(1,2)\n",
    "print(f1+f2)\n"
   ]
  },
  {
   "cell_type": "markdown",
   "metadata": {},
   "source": [
    "# 2. Operator Overloading"
   ]
  },
  {
   "cell_type": "code",
   "execution_count": 3,
   "metadata": {},
   "outputs": [
    {
     "name": "stdout",
     "output_type": "stream",
     "text": [
      "Point This Object is at: (3,6)\n"
     ]
    }
   ],
   "source": [
    "class point:\n",
    "    def __init__(self,x=0,y=0):\n",
    "        self.x=x\n",
    "        self.y=y\n",
    "    def __str__(self):\n",
    "        return 'Point This Object is at: ('+str(self.x)+','+str(self.y)+')'\n",
    "    def __add__(self,other):\n",
    "        x=self.x+other.x\n",
    "        y=self.y+other.y\n",
    "        return point(x,y)\n",
    "p1=point(1,2)\n",
    "p2=point(2,4)\n",
    "print(p1+p2)"
   ]
  },
  {
   "cell_type": "code",
   "execution_count": 4,
   "metadata": {},
   "outputs": [
    {
     "name": "stdout",
     "output_type": "stream",
     "text": [
      ">>> Luas Persegi\n",
      "Jarak X = 6\n",
      "Jarak Y = 7\n",
      "Luas = 42\n"
     ]
    }
   ],
   "source": [
    "#Menghitung Luas\n",
    "class point:\n",
    "    def __init__(self,x=0,y=0):\n",
    "        self.x=x\n",
    "        self.y=y\n",
    "    def __str__(self):\n",
    "        return '>>> Luas Persegi\\n'+'Jarak X = '+str(self.x)+'\\nJarak Y = '+str(self.y)+'\\nLuas = '+str(self.x*self.y)\n",
    "    def __sub__(self,other):\n",
    "        if self.x< other.x:\n",
    "             x=other.x-self.x\n",
    "        elif self.x > other.x:\n",
    "             x=self.x-other.x\n",
    "        if self.y < other.y:\n",
    "            y=other.y-self.y\n",
    "        elif self.y>other.y:\n",
    "            y=self.y-other.y\n",
    "        return point(x,y)\n",
    "p1=point(8,2)\n",
    "p2=point(2,9)\n",
    "print(p1-p2)"
   ]
  },
  {
   "cell_type": "code",
   "execution_count": null,
   "metadata": {},
   "outputs": [],
   "source": []
  }
 ],
 "metadata": {
  "kernelspec": {
   "display_name": "Python 2",
   "language": "python",
   "name": "python2"
  },
  "language_info": {
   "codemirror_mode": {
    "name": "ipython",
    "version": 2
   },
   "file_extension": ".py",
   "mimetype": "text/x-python",
   "name": "python",
   "nbconvert_exporter": "python",
   "pygments_lexer": "ipython2",
   "version": "2.7.15"
  }
 },
 "nbformat": 4,
 "nbformat_minor": 2
}
